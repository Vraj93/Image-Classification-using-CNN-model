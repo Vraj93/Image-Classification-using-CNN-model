{
 "cells": [
  {
   "cell_type": "code",
   "execution_count": null,
   "metadata": {},
   "outputs": [],
   "source": [
    "import gdown\n",
    "\n",
    "file_id = \"1tdhjRxghzVOO1VMIXrW-jqzp8ZEDg7gV\"\n",
    "destination = \"/content/Data.zip\"\n",
    "\n",
    "gdown.download(f\"https://drive.google.com/uc?id={file_id}\", destination, quiet=False)"
   ]
  },
  {
   "cell_type": "code",
   "execution_count": null,
   "metadata": {},
   "outputs": [],
   "source": [
    "import zipfile\n",
    "\n",
    "zip_path = \"/content/Data.zip\"\n",
    "extract_path = \"/content/Data\"\n",
    "\n",
    "with zipfile.ZipFile(zip_path, 'r') as zip_ref:\n",
    "    zip_ref.extractall(extract_path)\n",
    "\n",
    "print(\"Extraction Complete!\")"
   ]
  }
 ],
 "metadata": {
  "language_info": {
   "name": "python"
  }
 },
 "nbformat": 4,
 "nbformat_minor": 2
}
